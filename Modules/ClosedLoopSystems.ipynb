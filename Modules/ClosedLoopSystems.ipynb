{
 "cells": [
  {
   "cell_type": "markdown",
   "metadata": {},
   "source": []
  },
  {
   "cell_type": "code",
   "execution_count": null,
   "metadata": {},
   "outputs": [],
   "source": [
    "import numpy as np\n",
    "from tqdm import tqdm\n",
    "import matplotlib.pyplot as plt\n",
    "from matplotlib import cm\n",
    "import pandas as pd\n",
    "\n",
    "from input_variables import SetupParameters\n",
    "from grid import MeshGrid\n",
    "from difference_equations import DiscretizationSchemes\n",
    "from matrix_init import MatrixInitializer\n",
    "from physics import *\n",
    "from boundary_conditions import BCs\n",
    "from visualization import *\n",
    "from test import *\n",
    "\n",
    "def main():\n",
    "    params = SetupParameters(nx = 25, ny = 25, lx= 7000, ly = 7000)\n",
    "    X, Y, dx, dy = MeshGrid.mesh(params.nx, params.ny, params.lx, params.ly)\n",
    "    rho_prev = MatrixInitializer.matrix_initialization(params.nx, params.ny, zero_initialization=True)\n",
    "    ux_prev = MatrixInitializer.matrix_initialization(params.nx, params.ny, zero_initialization=True)\n",
    "    uy_prev = MatrixInitializer.matrix_initialization(params.nx, params.ny, zero_initialization=True)\n",
    "    d_rho_prev__dt = \n",
    "    d_rho_ux_prev__dx = \n",
    "    m_source = \n",
    "    \n",
    "        \n",
    "if __name__ == \"__main__\":\n",
    "    main()"
   ]
  }
 ],
 "metadata": {
  "kernelspec": {
   "display_name": "Python 3",
   "language": "python",
   "name": "python3"
  },
  "language_info": {
   "name": "python",
   "version": "3.12.4"
  }
 },
 "nbformat": 4,
 "nbformat_minor": 2
}
